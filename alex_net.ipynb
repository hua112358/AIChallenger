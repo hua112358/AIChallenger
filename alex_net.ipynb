{
 "cells": [
  {
   "cell_type": "code",
   "execution_count": 1,
   "metadata": {},
   "outputs": [
    {
     "name": "stdout",
     "output_type": "stream",
     "text": [
      "images size: (53879, 32, 32, 3)\n"
     ]
    },
    {
     "data": {
      "text/plain": [
       "<matplotlib.image.AxesImage at 0x7f73237739b0>"
      ]
     },
     "execution_count": 1,
     "metadata": {},
     "output_type": "execute_result"
    },
    {
     "data": {
      "image/png": "[encoded data removed]",
      "text/plain": [
       "<matplotlib.figure.Figure at 0x7f7328b6b4e0>"
      ]
     },
     "metadata": {},
     "output_type": "display_data"
    }
   ],
   "source": [
    "# load data\n",
    "%matplotlib inline\n",
    "import numpy as np\n",
    "import time \n",
    "from skimage import io\n",
    "import json\n",
    "\n",
    "with open(\"train/info.json\") as f:\n",
    "    info = json.loads(f.read())\n",
    "\n",
    "labels = [int(image[\"label_id\"]) for image in info]\n",
    "names = [image[\"image_id\"] for image in info]\n",
    "names_labels_list = [[image[\"image_id\"], image[\"label_id\"]] for image in info]\n",
    "names_labels_dict = dict(names_labels_list)\n",
    "\n",
    "images = np.load(\"images.npy\")\n",
    "print(\"images size:\",images.shape)\n",
    "io.imshow(images[0])"
   ]
  },
  {
   "cell_type": "code",
   "execution_count": 2,
   "metadata": {
    "scrolled": true
   },
   "outputs": [
    {
     "name": "stdout",
     "output_type": "stream",
     "text": [
      "(12500, 4, 32, 32, 3)\n",
      "(12500, 4)\n",
      "(12500, 4, 3, 32, 32)\n"
     ]
    },
    {
     "data": {
      "image/png": "[encoded data removed]",
      "text/plain": [
       "<matplotlib.figure.Figure at 0x7f735054eb70>"
      ]
     },
     "metadata": {},
     "output_type": "display_data"
    }
   ],
   "source": [
    "images_train = images[:50000]\n",
    "images_train = images_train.reshape((12500,4,32,32,3))\n",
    "labels = np.array(labels)\n",
    "labels_train = labels[:50000]\n",
    "labels_train = labels_train.reshape((12500,4))\n",
    "print(images_train.shape)\n",
    "print(labels_train.shape)\n",
    "io.imshow(images_train[0][0])\n",
    "images_train = np.transpose(images_train,axes=(0,1,4,2,3))\n",
    "print(images_train.shape)"
   ]
  },
  {
   "cell_type": "code",
   "execution_count": 3,
   "metadata": {},
   "outputs": [
    {
     "name": "stdout",
     "output_type": "stream",
     "text": [
      "torch.Size([12500, 4, 3, 32, 32])\n",
      "torch.Size([12500, 4])\n"
     ]
    }
   ],
   "source": [
    "import torch\n",
    "images_train = torch.from_numpy(images_train)\n",
    "labels_train = torch.from_numpy(labels_train)\n",
    "print(images_train.size())\n",
    "print(labels_train.size())"
   ]
  },
  {
   "cell_type": "code",
   "execution_count": 4,
   "metadata": {},
   "outputs": [],
   "source": [
    "import torch\n",
    "from torch.autograd import Variable\n",
    "\n",
    "# images_train = np.transpose(images_train,axes=(0,1,4,2,3))\n",
    "# images_train = torch.from_numpy(images_train)\n",
    "# images_train = Variable(images_train, requires_grad=True)\n",
    "# labels = np.array(labels)\n",
    "# labels = labels[:1000]\n",
    "# labels = labels.reshape((250,4))\n",
    "# labels = torch.from_numpy(labels)\n",
    "# labels = Variable(labels, requires_grad=True)\n",
    "# print(images_train.size())"
   ]
  },
  {
   "cell_type": "code",
   "execution_count": 5,
   "metadata": {},
   "outputs": [
    {
     "name": "stdout",
     "output_type": "stream",
     "text": [
      "AlexNet(\n",
      "  (features): Sequential(\n",
      "    (0): Conv2d (3, 96, kernel_size=(11, 11), stride=(4, 4), padding=(5, 5))\n",
      "    (1): ReLU(inplace)\n",
      "    (2): MaxPool2d(kernel_size=(2, 2), stride=(2, 2), dilation=(1, 1))\n",
      "    (3): Conv2d (96, 256, kernel_size=(5, 5), stride=(1, 1), padding=(2, 2))\n",
      "    (4): ReLU(inplace)\n",
      "    (5): MaxPool2d(kernel_size=(2, 2), stride=(2, 2), dilation=(1, 1))\n",
      "    (6): Conv2d (256, 384, kernel_size=(3, 3), stride=(1, 1), padding=(1, 1))\n",
      "    (7): ReLU(inplace)\n",
      "    (8): Conv2d (384, 384, kernel_size=(3, 3), stride=(1, 1), padding=(1, 1))\n",
      "    (9): ReLU(inplace)\n",
      "    (10): Conv2d (384, 256, kernel_size=(3, 3), stride=(1, 1), padding=(1, 1))\n",
      "    (11): ReLU(inplace)\n",
      "    (12): MaxPool2d(kernel_size=(2, 2), stride=(2, 2), dilation=(1, 1))\n",
      "  )\n",
      "  (classifier): Linear(in_features=256, out_features=80)\n",
      ")\n"
     ]
    }
   ],
   "source": [
    "from torch.autograd import Variable\n",
    "import torch.nn as nn\n",
    "import torch.nn.functional as F\n",
    "\n",
    "\n",
    "class AlexNet(nn.Module):\n",
    "\n",
    "    def __init__(self, num_classes=10):\n",
    "        super(AlexNet, self).__init__()\n",
    "        self.features = nn.Sequential(\n",
    "            nn.Conv2d(3, 96, kernel_size=11, stride=4, padding=5),\n",
    "            nn.ReLU(inplace=True),\n",
    "            nn.MaxPool2d(kernel_size=2, stride=2),\n",
    "            nn.Conv2d(96, 256, kernel_size=5, padding=2),\n",
    "            nn.ReLU(inplace=True),\n",
    "            nn.MaxPool2d(kernel_size=2, stride=2),\n",
    "            nn.Conv2d(256, 384, kernel_size=3, padding=1),\n",
    "            nn.ReLU(inplace=True),\n",
    "            nn.Conv2d(384, 384, kernel_size=3, padding=1),\n",
    "            nn.ReLU(inplace=True),\n",
    "            nn.Conv2d(384, 256, kernel_size=3, padding=1),\n",
    "            nn.ReLU(inplace=True),\n",
    "            nn.MaxPool2d(kernel_size=2, stride=2),\n",
    "        )\n",
    "        self.classifier = nn.Linear(256, 80)\n",
    "\n",
    "    def forward(self, x):\n",
    "        x = self.features(x)\n",
    "        x = x.view(x.size(0), -1)\n",
    "        x = self.classifier(x)\n",
    "        return x\n",
    "net = AlexNet()\n",
    "print(net)"
   ]
  },
  {
   "cell_type": "code",
   "execution_count": 6,
   "metadata": {},
   "outputs": [
    {
     "name": "stdout",
     "output_type": "stream",
     "text": [
      "torch.Size([96, 3, 11, 11])\n",
      "torch.Size([96])\n",
      "torch.Size([256, 96, 5, 5])\n",
      "torch.Size([256])\n",
      "torch.Size([384, 256, 3, 3])\n",
      "torch.Size([384])\n",
      "torch.Size([384, 384, 3, 3])\n",
      "torch.Size([384])\n",
      "torch.Size([256, 384, 3, 3])\n",
      "torch.Size([256])\n",
      "torch.Size([80, 256])\n",
      "torch.Size([80])\n",
      "3767760\n"
     ]
    }
   ],
   "source": [
    "params = list(net.parameters())\n",
    "k = 0\n",
    "for param in params:\n",
    "    j = 1\n",
    "    print(param.size())\n",
    "    for i in param.size():\n",
    "        j *= i\n",
    "    k += j\n",
    "print(k)"
   ]
  },
  {
   "cell_type": "code",
   "execution_count": 7,
   "metadata": {},
   "outputs": [
    {
     "name": "stdout",
     "output_type": "stream",
     "text": [
      "[1,2000] loss:4.378\n",
      "[1,4000] loss:4.365\n",
      "[1,6000] loss:4.359\n",
      "[1,8000] loss:4.352\n",
      "[1,10000] loss:4.286\n",
      "[1,12000] loss:4.155\n",
      "[2,2000] loss:4.084\n",
      "[2,4000] loss:4.030\n",
      "[2,6000] loss:3.994\n",
      "[2,8000] loss:3.953\n",
      "[2,10000] loss:3.920\n",
      "[2,12000] loss:3.838\n",
      "[3,2000] loss:3.765\n",
      "[3,4000] loss:3.690\n",
      "[3,6000] loss:3.662\n",
      "[3,8000] loss:3.587\n",
      "[3,10000] loss:3.548\n",
      "[3,12000] loss:3.494\n",
      "[4,2000] loss:3.471\n",
      "[4,4000] loss:3.435\n",
      "[4,6000] loss:3.422\n",
      "[4,8000] loss:3.387\n",
      "[4,10000] loss:3.375\n",
      "[4,12000] loss:3.329\n",
      "[5,2000] loss:3.320\n",
      "[5,4000] loss:3.299\n",
      "[5,6000] loss:3.288\n",
      "[5,8000] loss:3.261\n",
      "[5,10000] loss:3.256\n",
      "[5,12000] loss:3.216\n",
      "Training completed!\n"
     ]
    }
   ],
   "source": [
    "import torch.optim as optim\n",
    "criterion = nn.CrossEntropyLoss()\n",
    "optimizer = optim.SGD(net.parameters(),lr=0.001,momentum=0.9)\n",
    "\n",
    "for epoch in range(5):\n",
    "    running_loss = 0.0\n",
    "    for i,inputs in enumerate(images_train,0):\n",
    "        inputs = inputs.float()\n",
    "        inputs_labels = labels_train[i] \n",
    "        inputs,inputs_labels = Variable(inputs),Variable(inputs_labels)\n",
    "        optimizer.zero_grad()\n",
    "        outputs = net(inputs)\n",
    "        loss = criterion(outputs,inputs_labels)\n",
    "        loss.backward()\n",
    "        optimizer.step()\n",
    "        running_loss+=loss.data[0]\n",
    "        if i%2000==1999:\n",
    "            print(\"[%s,%s] loss:%.3f\" %(epoch+1,i+1,running_loss/2000))\n",
    "            running_loss = 0.0\n",
    "print(\"Training completed!\")"
   ]
  },
  {
   "cell_type": "code",
   "execution_count": 8,
   "metadata": {},
   "outputs": [],
   "source": [
    "# criterion = nn.CrossEntropyLoss()\n",
    "# import torch.optim as optim\n",
    "# optimizer = optim.SGD(net.parameters(),lr=0.001,momentum=0.9)\n",
    "\n",
    "# def train(process_number):\n",
    "#     for epoch in range(2):\n",
    "#         running_loss = 0.0\n",
    "#         for i,inputs in enumerate(images_train,0):\n",
    "#             inputs = inputs.float()\n",
    "#             inputs_labels = labels_train[i] \n",
    "#             inputs,inputs_labels = Variable(inputs),Variable(inputs_labels)\n",
    "#             optimizer.zero_grad()\n",
    "#             outputs = net(inputs)\n",
    "#             loss = criterion(outputs,inputs_labels)\n",
    "#             loss.backward()\n",
    "#             optimizer.step()\n",
    "#             running_loss+=loss.data[0]\n",
    "#             if i%2000==1999:\n",
    "#                 print(\"进程%s [%s,%s] loss:%.3f\" %(process_number,epoch+1,i+1,running_loss/2000))\n",
    "#                 running_loss = 0.0\n",
    "#     print(\"Training completed!\")\n",
    "# from multiprocessing import Process\n",
    "# for i in range(5):\n",
    "#     p = Process(target=train,args=(i,))\n",
    "#     p.start()"
   ]
  },
  {
   "cell_type": "code",
   "execution_count": 9,
   "metadata": {},
   "outputs": [
    {
     "name": "stdout",
     "output_type": "stream",
     "text": [
      "images size: (7120, 32, 32, 3)\n"
     ]
    },
    {
     "data": {
      "text/plain": [
       "<matplotlib.image.AxesImage at 0x7f735666f5c0>"
      ]
     },
     "execution_count": 9,
     "metadata": {},
     "output_type": "execute_result"
    },
    {
     "data": {
      "image/png": "[encoded data removed]",
      "text/plain": [
       "<matplotlib.figure.Figure at 0x7f73281e3278>"
      ]
     },
     "metadata": {},
     "output_type": "display_data"
    }
   ],
   "source": [
    "# load data\n",
    "%matplotlib inline\n",
    "import numpy as np\n",
    "import time \n",
    "from skimage import io\n",
    "import json\n",
    "\n",
    "with open(\"validation/info.json\") as f:\n",
    "    info = json.loads(f.read())\n",
    "\n",
    "labels = [int(image[\"label_id\"]) for image in info]\n",
    "names = [image[\"image_id\"] for image in info]\n",
    "names_labels_list = [[image[\"image_id\"], image[\"label_id\"]] for image in info]\n",
    "names_labels_dict = dict(names_labels_list)\n",
    "\n",
    "images = np.load(\"images_validation.npy\")\n",
    "print(\"images size:\",images.shape)\n",
    "io.imshow(images[0])"
   ]
  },
  {
   "cell_type": "code",
   "execution_count": 10,
   "metadata": {},
   "outputs": [
    {
     "name": "stdout",
     "output_type": "stream",
     "text": [
      "(250, 4, 32, 32, 3)\n",
      "(250, 4)\n",
      "(250, 4, 3, 32, 32)\n"
     ]
    },
    {
     "data": {
      "image/png": "[encoded data removed]",
      "text/plain": [
       "<matplotlib.figure.Figure at 0x7f73566a9320>"
      ]
     },
     "metadata": {},
     "output_type": "display_data"
    }
   ],
   "source": [
    "images_validation = images[:1000]\n",
    "images_validation = images_validation.reshape((250,4,32,32,3))\n",
    "labels = np.array(labels)\n",
    "labels_validation = labels[:1000]\n",
    "labels_validation = labels_validation.reshape((250,4))\n",
    "print(images_validation.shape)\n",
    "print(labels_validation.shape)\n",
    "io.imshow(images_validation[0][0])\n",
    "images_validation = np.transpose(images_validation,axes=(0,1,4,2,3))\n",
    "print(images_validation.shape)"
   ]
  },
  {
   "cell_type": "code",
   "execution_count": 11,
   "metadata": {},
   "outputs": [
    {
     "name": "stdout",
     "output_type": "stream",
     "text": [
      "categories:\n",
      "['航站楼', '停机坪', '机舱', '游乐场', '冰场', '舞台', '艺术室', '流水线', '棒球场', '橄榄球场', '足球场', '排球场', '高尔夫球场', '田径场', '滑雪场', '篮球馆(场)', '健身房', '保龄球馆', '游泳池', '拳击场', '跑马场', '田地/农场', '果园菜园', '牧场', '乡村', '温室', '电视台(演播室)', '亚洲寺庙', '亭子', '塔', '宫殿', '西式教堂', '街道', '餐厅食堂', '咖啡厅', '厨房', '广场', '实验室', '酒吧', '会议室', '办公室', '医院', '售票处', '露营地(帐篷）', '音乐工作室', '电梯/楼梯', '公园/花园', '建筑工地', '大型综合超市', '商店', '集市', '图书馆/书店', '教室', '海洋沙滩', '消防', '加油站', '垃圾场', '阳台', '游戏/棋牌室', '舞厅', '博物馆', '沙漠', '漂流', '树林', '桥', '住宅', '汽车展厅', '河流湖泊', '水族馆', '沟渠', '宴会厅', '卧室', '山', '站台', '草地', '育儿室', '美容/美发店', '修理店', '斗牛场', '雪屋/冰雕(山)'] \n",
      "\n"
     ]
    }
   ],
   "source": [
    "import pandas as pd\n",
    "classes=pd.read_csv('validation/validationClasses.csv',header=None)\n",
    "classList=list(classes.iloc[:,1])\n",
    "print('categories:')\n",
    "print(classList,'\\n')"
   ]
  },
  {
   "cell_type": "code",
   "execution_count": 12,
   "metadata": {},
   "outputs": [
    {
     "name": "stdout",
     "output_type": "stream",
     "text": [
      "torch.Size([250, 4, 3, 32, 32])\n",
      "torch.Size([250, 4])\n"
     ]
    }
   ],
   "source": [
    "import torch\n",
    "images_validation = torch.from_numpy(images_validation)\n",
    "labels_validation = torch.from_numpy(labels_validation)\n",
    "print(images_validation.size())\n",
    "print(labels_validation.size())"
   ]
  },
  {
   "cell_type": "code",
   "execution_count": 13,
   "metadata": {},
   "outputs": [
    {
     "name": "stdout",
     "output_type": "stream",
     "text": [
      "Accuracy of the network on the validation images: 18 %\n"
     ]
    }
   ],
   "source": [
    "from torch.autograd import Variable\n",
    "correct = 0\n",
    "total = 0\n",
    "for i,inputs in enumerate(images_validation,0):\n",
    "    inputs = inputs.float()\n",
    "    inputs_labels = labels_validation[i]\n",
    "    inputs = Variable(inputs)\n",
    "    outputs = net(inputs)\n",
    "    _,predicted = torch.max(outputs.data,1)\n",
    "    total += inputs_labels.size(0)\n",
    "    correct += (predicted == inputs_labels).sum()\n",
    "print('Accuracy of the network on the validation images: %d %%' % (\n",
    "    100 * correct / total))"
   ]
  },
  {
   "cell_type": "code",
   "execution_count": null,
   "metadata": {},
   "outputs": [],
   "source": []
  }
 ],
 "metadata": {
  "kernelspec": {
   "display_name": "Python 3",
   "language": "python",
   "name": "python3"
  },
  "language_info": {
   "codemirror_mode": {
    "name": "ipython",
    "version": 3
   },
   "file_extension": ".py",
   "mimetype": "text/x-python",
   "name": "python",
   "nbconvert_exporter": "python",
   "pygments_lexer": "ipython3",
   "version": "3.5.2"
  }
 },
 "nbformat": 4,
 "nbformat_minor": 2
}
