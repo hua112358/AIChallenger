{
 "cells": [
  {
   "cell_type": "code",
   "execution_count": null,
   "metadata": {},
   "outputs": [],
   "source": [
    "# load data and preprocessing \n",
    "import numpy as np\n",
    "import time \n",
    "import json\n",
    "from skimage import io,transform\n",
    "import torch\n",
    "\n",
    "with open(\"train/info.json\") as f:\n",
    "    info = json.loads(f.read())\n",
    "labels = [int(image[\"label_id\"]) for image in info]\n",
    "names = [image[\"image_id\"] for image in info]\n",
    "names_labels_list = [[image[\"image_id\"], image[\"label_id\"]] for image in info]\n",
    "names_labels_dict = dict(names_labels_list)\n",
    "\n",
    "images = [transform.resize(io.imread(\"train/train/\"+name),(32,32))for name in names]\n",
    "images = np.array(images)\n",
    "\n",
    "images_train = images[:50000]\n",
    "images_train = images_train.reshape((12500,4,32,32,3))\n",
    "labels = np.array(labels)\n",
    "labels_train = labels[:50000]\n",
    "labels_train = labels_train.reshape((12500,4))\n",
    "images_train = np.transpose(images_train,axes=(0,1,4,2,3))\n",
    "\n",
    "images_train = torch.from_numpy(images_train)\n",
    "labels_train = torch.from_numpy(labels_train)"
   ]
  },
  {
   "cell_type": "code",
   "execution_count": null,
   "metadata": {},
   "outputs": [],
   "source": [
    "# load data and preprocessing \n",
    "import numpy as np\n",
    "import time \n",
    "import json\n",
    "with open(\"train/info.json\") as f:\n",
    "    info = json.loads(f.read())\n",
    "\n",
    "labels = [int(image[\"label_id\"]) for image in info]\n",
    "names = [image[\"image_id\"] for image in info]\n",
    "names_labels_list = [[image[\"image_id\"], image[\"label_id\"]] for image in info]\n",
    "names_labels_dict = dict(names_labels_list)"
   ]
  },
  {
   "cell_type": "code",
   "execution_count": null,
   "metadata": {},
   "outputs": [],
   "source": [
    "import numpy as np\n",
    "from skimage import io,transform\n",
    "images = [transform.resize(io.imread(\"train/train/\"+name),(32,32))for name in names]\n",
    "images = np.array(images)\n",
    "print(\"images size:\",images.shape)\n",
    "io.imshow(images[0])"
   ]
  },
  {
   "cell_type": "code",
   "execution_count": null,
   "metadata": {},
   "outputs": [],
   "source": [
    "images_train = images[:50000]\n",
    "images_train = images_train.reshape((12500,4,32,32,3))\n",
    "labels = np.array(labels)\n",
    "labels_train = labels[:50000]\n",
    "labels_train = labels_train.reshape((12500,4))\n",
    "io.imshow(images_train[0][0])\n",
    "images_train = np.transpose(images_train,axes=(0,1,4,2,3))\n",
    "print(images_train.shape)\n",
    "print(labels_train.shape)"
   ]
  },
  {
   "cell_type": "code",
   "execution_count": null,
   "metadata": {},
   "outputs": [],
   "source": [
    "import torch\n",
    "images_train = torch.from_numpy(images_train)\n",
    "labels_train = torch.from_numpy(labels_train)\n",
    "print(images_train.size())\n",
    "print(labels_train.size())"
   ]
  },
  {
   "cell_type": "code",
   "execution_count": null,
   "metadata": {},
   "outputs": [],
   "source": [
    "from torch.autograd import Variable\n",
    "import torch.nn as nn\n",
    "import torch.nn.functional as F\n",
    "\n",
    "\n",
    "class AlexNet(nn.Module):\n",
    "\n",
    "    def __init__(self, num_classes=10):\n",
    "        super(AlexNet, self).__init__()\n",
    "        self.features = nn.Sequential(\n",
    "            nn.Conv2d(3, 96, kernel_size=11, stride=4, padding=5),\n",
    "            nn.ReLU(inplace=True),\n",
    "            nn.MaxPool2d(kernel_size=2, stride=2),\n",
    "            nn.Conv2d(96, 256, kernel_size=5, padding=2),\n",
    "            nn.ReLU(inplace=True),\n",
    "            nn.MaxPool2d(kernel_size=2, stride=2),\n",
    "            nn.Conv2d(256, 384, kernel_size=3, padding=1),\n",
    "            nn.ReLU(inplace=True),\n",
    "            nn.Conv2d(384, 384, kernel_size=3, padding=1),\n",
    "            nn.ReLU(inplace=True),\n",
    "            nn.Conv2d(384, 256, kernel_size=3, padding=1),\n",
    "            nn.ReLU(inplace=True),\n",
    "            nn.MaxPool2d(kernel_size=2, stride=2),\n",
    "        )\n",
    "        self.classifier = nn.Linear(256, 80)\n",
    "\n",
    "    def forward(self, x):\n",
    "        x = self.features(x)\n",
    "        x = x.view(x.size(0), -1)\n",
    "        x = self.classifier(x)\n",
    "        return x\n",
    "net = AlexNet()\n",
    "print(net)"
   ]
  },
  {
   "cell_type": "code",
   "execution_count": null,
   "metadata": {},
   "outputs": [],
   "source": [
    "params = list(net.parameters())\n",
    "k = 0\n",
    "for param in params:\n",
    "    j = 1\n",
    "    print(param.size())\n",
    "    for i in param.size():\n",
    "        j *= i\n",
    "    k += j\n",
    "print(k)"
   ]
  },
  {
   "cell_type": "code",
   "execution_count": null,
   "metadata": {},
   "outputs": [],
   "source": [
    "import torch.optim as optim\n",
    "criterion = nn.CrossEntropyLoss()\n",
    "optimizer = optim.SGD(net.parameters(),lr=0.001,momentum=0.9)\n",
    "\n",
    "for epoch in range(5):\n",
    "    running_loss = 0.0\n",
    "    for i,inputs in enumerate(images_train,0):\n",
    "        inputs = inputs.float()\n",
    "        inputs_labels = labels_train[i] \n",
    "        inputs,inputs_labels = Variable(inputs),Variable(inputs_labels)\n",
    "        optimizer.zero_grad()\n",
    "        outputs = net(inputs)\n",
    "        loss = criterion(outputs,inputs_labels)\n",
    "        loss.backward()\n",
    "        optimizer.step()\n",
    "        running_loss+=loss.data[0]\n",
    "        if i%2000==1999:\n",
    "            print(\"[%s,%s] loss:%.3f\" %(epoch+1,i+1,running_loss/2000))\n",
    "            running_loss = 0.0\n",
    "print(\"Training completed!\")"
   ]
  },
  {
   "cell_type": "code",
   "execution_count": null,
   "metadata": {},
   "outputs": [],
   "source": [
    "from torch.autograd import Variable\n",
    "correct = 0\n",
    "total = 0\n",
    "for i,inputs in enumerate(images_validation,0):\n",
    "    inputs = inputs.float()\n",
    "    inputs_labels = labels_validation[i]\n",
    "    inputs = Variable(inputs)\n",
    "    outputs = net(inputs)\n",
    "    _,predicted = torch.max(outputs.data,1)\n",
    "    total += inputs_labels.size(0)\n",
    "    correct += (predicted == inputs_labels).sum()\n",
    "print('Accuracy of the network on the validation images: %d %%' % (\n",
    "    100 * correct / total))"
   ]
  },
  {
   "cell_type": "code",
   "execution_count": null,
   "metadata": {},
   "outputs": [],
   "source": []
  },
  {
   "cell_type": "code",
   "execution_count": null,
   "metadata": {},
   "outputs": [],
   "source": []
  }
 ],
 "metadata": {
  "kernelspec": {
   "display_name": "Python 3",
   "language": "python",
   "name": "python3"
  },
  "language_info": {
   "codemirror_mode": {
    "name": "ipython",
    "version": 3
   },
   "file_extension": ".py",
   "mimetype": "text/x-python",
   "name": "python",
   "nbconvert_exporter": "python",
   "pygments_lexer": "ipython3",
   "version": "3.5.2"
  }
 },
 "nbformat": 4,
 "nbformat_minor": 2
}
