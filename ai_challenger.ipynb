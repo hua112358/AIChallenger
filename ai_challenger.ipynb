{
 "cells": [
  {
   "cell_type": "code",
   "execution_count": 1,
   "metadata": {},
   "outputs": [],
   "source": [
    "# # step1\n",
    "# import json\n",
    "# import pandas as pd\n",
    "# import os\n",
    "# import matplotlib.pyplot as plt\n",
    "# import numpy as np\n",
    "# from PIL import Image\n",
    "\n",
    "# # load images\n",
    "# with open('train/info.json') as f:\n",
    "#     infos=json.loads(f.read())\n",
    "# imageLabelDictList=[]\n",
    "# imageLabelDict={}\n",
    "# for info in infos:\n",
    "#     d={}\n",
    "#     image_id=info['image_id']\n",
    "#     label_id=info['label_id']\n",
    "#     d[image_id]=label_id\n",
    "#     imageLabelDictList.append(d)\n",
    "#     imageLabelDict[image_id]=label_id\n",
    "# print('number of total images:',len(imageLabelDict),'\\n')\n",
    "\n",
    "# # create classList\n",
    "# classes=pd.read_csv('train/trainClasses.csv',header=None)\n",
    "# classList=list(classes.iloc[:,1])\n",
    "# print('categories:')\n",
    "# print(classList,'\\n')\n",
    "\n",
    "# # create classIdList\n",
    "# numOfImages=50000\n",
    "# imageIdList=os.listdir('train/train/')\n",
    "# imageIdList=imageIdList[:numOfImages]\n",
    "# classIdList=[]\n",
    "# for imageId in imageIdList:\n",
    "#     classId=imageLabelDict[imageId]\n",
    "#     classIdList.append(int(classId))\n",
    "# print('number of choosen images:',len(imageIdList),'\\n')\n",
    "\n",
    "# # create imageArrayList\n",
    "# imageArrayList=[]\n",
    "# for imageId in imageIdList:\n",
    "#     imagePath='train/train/'+imageId\n",
    "#     image=Image.open(imagePath)\n",
    "#     image=image.resize((32,32))\n",
    "#     imageArray=np.array(image)\n",
    "#     imageArrayList.append(imageArray)\n",
    "\n",
    "# # set the batch size 4 and create imageArrayArray\n",
    "# imageArrayListList=[]\n",
    "# for i in range(0,len(imageArrayList),4):\n",
    "#     imageArrayListList.append(imageArrayList[i:i+4])\n",
    "# imageArrayArray=np.array(imageArrayListList)\n",
    "# print('the dimension of imageArrayArray',imageArrayArray.shape)\n",
    "# print('the dimension of batch',imageArrayArray[0].shape)\n",
    "# print('the dimension of image',imageArrayArray[0][0].shape)\n",
    "\n",
    "# # check the imageArrayArray\n",
    "# print('the first picture')\n",
    "# image1Array=imageArrayArray[0][0]\n",
    "# plt.imshow(image1Array)\n",
    "# plt.show()\n",
    "\n",
    "# # store the imageArrayArray\n",
    "# np.save('imageArrayArray.npy',imageArrayArray)"
   ]
  },
  {
   "cell_type": "code",
   "execution_count": 2,
   "metadata": {},
   "outputs": [
    {
     "name": "stdout",
     "output_type": "stream",
     "text": [
      "number of total images: 53879 \n",
      "\n",
      "categories:\n",
      "['航站楼', '停机坪', '机舱', '游乐场', '冰场', '舞台', '艺术室', '流水线', '棒球场', '橄榄球场', '足球场', '排球场', '高尔夫球场', '田径场', '滑雪场', '篮球馆(场)', '健身房', '保龄球馆', '游泳池', '拳击场', '跑马场', '田地/农场', '果园菜园', '牧场', '乡村', '温室', '电视台(演播室)', '亚洲寺庙', '亭子', '塔', '宫殿', '西式教堂', '街道', '餐厅食堂', '咖啡厅', '厨房', '广场', '实验室', '酒吧', '会议室', '办公室', '医院', '售票处', '露营地(帐篷）', '音乐工作室', '电梯/楼梯', '公园/花园', '建筑工地', '大型综合超市', '商店', '集市', '图书馆/书店', '教室', '海洋沙滩', '消防', '加油站', '垃圾场', '阳台', '游戏/棋牌室', '舞厅', '博物馆', '沙漠', '漂流', '树林', '桥', '住宅', '汽车展厅', '河流湖泊', '水族馆', '沟渠', '宴会厅', '卧室', '山', '站台', '草地', '育儿室', '美容/美发店', '修理店', '斗牛场', '雪屋/冰雕(山)'] \n",
      "\n",
      "number of choosen images: 50000 \n",
      "\n"
     ]
    }
   ],
   "source": [
    "import json\n",
    "import pandas as pd\n",
    "import os\n",
    "import matplotlib.pyplot as plt\n",
    "import numpy as np\n",
    "from PIL import Image\n",
    "\n",
    "# load images\n",
    "with open('train/info.json') as f:\n",
    "    infos=json.loads(f.read())\n",
    "imageLabelDictList=[]\n",
    "imageLabelDict={}\n",
    "for info in infos:\n",
    "    d={}\n",
    "    image_id=info['image_id']\n",
    "    label_id=info['label_id']\n",
    "    d[image_id]=label_id\n",
    "    imageLabelDictList.append(d)\n",
    "    imageLabelDict[image_id]=label_id\n",
    "print('number of total images:',len(imageLabelDict),'\\n')\n",
    "\n",
    "# create classList\n",
    "classes=pd.read_csv('train/trainClasses.csv',header=None)\n",
    "classList=list(classes.iloc[:,1])\n",
    "print('categories:')\n",
    "print(classList,'\\n')\n",
    "\n",
    "# create classIdList\n",
    "numOfImages=50000\n",
    "imageIdList=os.listdir('train/train/')\n",
    "imageIdList=imageIdList[:numOfImages]\n",
    "classIdList=[]\n",
    "for imageId in imageIdList:\n",
    "    classId=imageLabelDict[imageId]\n",
    "    classIdList.append(int(classId))\n",
    "print('number of choosen images:',len(imageIdList),'\\n')\n",
    "\n",
    "# load the imageArrayArray\n",
    "# import numpy as np\n",
    "# imageArrayArray=np.load('imageArrayArray.npy')\n",
    "# print(imageArrayArray.shape)"
   ]
  },
  {
   "cell_type": "code",
   "execution_count": 3,
   "metadata": {},
   "outputs": [],
   "source": [
    "# import torch\n",
    "# import numpy as np\n",
    "# from torchvision import transforms\n",
    "# transform=transforms.Compose([transforms.Normalize(mean=(127.5,127.5,127.5),std=(127.5,127.5,127.5)),])\n",
    "# imageArray=np.transpose(imageArrayArray,axes=(0,1,4,2,3))\n",
    "# imageArray=(imageArray-127.5)/127.5\n",
    "# imageTensor=torch.from_numpy(imageArray)\n",
    "\n",
    "# store the imageTensor\n",
    "# import numpy as np\n",
    "# imageArray=imageTensor.numpy()\n",
    "# np.save('imageArray.npy',imageArray)"
   ]
  },
  {
   "cell_type": "code",
   "execution_count": 4,
   "metadata": {},
   "outputs": [],
   "source": [
    "# # step 2\n",
    "# # data preprocessing:transform imageArrayArray to imageTensor\n",
    "# import torch\n",
    "# import numpy as np\n",
    "# from torchvision import transforms\n",
    "\n",
    "# imageArrayArray=imageArrayArray\n",
    "# imageList=imageArrayArray.tolist()\n",
    "# batchNumber=len(imageList)\n",
    "# imageNumber=len(imageList[0])\n",
    "# transform=transforms.Compose([transforms.ToTensor(),transforms.Normalize(mean=(0.5,0.5,0.5),std=(0.5,0.5,0.5))])\n",
    "# # transform1=transforms.ToTensor()\n",
    "# # transform2=transforms.Normalize(mean=(0.5,0.5,0.5),std=(0.5,0.5,0.5))\n",
    "# for batchIndex in range(batchNumber):\n",
    "#     for imageIndex in range(imageNumber):\n",
    "#         image=np.array(imageList[batchIndex][imageIndex])\n",
    "#         image=transform(image)\n",
    "#         image=image.numpy()\n",
    "#         image=image.tolist()\n",
    "#         imageList[batchIndex][imageIndex]=image\n",
    "# imageArray=np.array(imageList)\n",
    "# imageTensor=torch.from_numpy(imageArray)\n",
    "# print('the dimension of imageTensor:',imageTensor.shape)"
   ]
  },
  {
   "cell_type": "code",
   "execution_count": 2,
   "metadata": {},
   "outputs": [
    {
     "name": "stdout",
     "output_type": "stream",
     "text": [
      "torch.Size([12500, 4, 3, 32, 32])\n"
     ]
    }
   ],
   "source": [
    "# load the imageTensor\n",
    "import torch\n",
    "import numpy as np\n",
    "\n",
    "imageArray=np.load('imageArray.npy')\n",
    "imageTensor=torch.from_numpy(imageArray)\n",
    "print(imageTensor.size())"
   ]
  },
  {
   "cell_type": "code",
   "execution_count": 6,
   "metadata": {},
   "outputs": [
    {
     "name": "stdout",
     "output_type": "stream",
     "text": [
      "torch.Size([4, 3, 32, 32])\n",
      "(3, 36, 138)\n",
      "(138, 36, 3)\n",
      "(36, 138, 3)\n",
      "健身房 办公室 桥 机舱\n"
     ]
    },
    {
     "data": {
      "image/png": "[encoded data removed]",
      "text/plain": [
       "<matplotlib.figure.Figure at 0x7f45d246fda0>"
      ]
     },
     "metadata": {},
     "output_type": "display_data"
    }
   ],
   "source": [
    "# step 3\n",
    "# check the imageTensor\n",
    "import matplotlib.pyplot as plt\n",
    "import numpy as np\n",
    "import torchvision\n",
    "%matplotlib inline\n",
    "\n",
    "images=imageTensor[0]\n",
    "print(images.shape)\n",
    "images=torchvision.utils.make_grid(images)\n",
    "images=images/2+0.5\n",
    "images=images.numpy()\n",
    "print(images.shape)\n",
    "print(np.transpose(images).shape)\n",
    "images=np.transpose(images,axes=(1,2,0))\n",
    "print(images.shape)\n",
    "labels=[classList[classIdList[i]] for i in range(4)]\n",
    "plt.imshow(images)\n",
    "print(' '.join('%s' % label for label in labels))"
   ]
  },
  {
   "cell_type": "code",
   "execution_count": 7,
   "metadata": {},
   "outputs": [
    {
     "name": "stdout",
     "output_type": "stream",
     "text": [
      "Net(\n",
      "  (conv1): Conv2d (3, 6, kernel_size=(5, 5), stride=(1, 1))\n",
      "  (pool): MaxPool2d(kernel_size=(2, 2), stride=(2, 2), dilation=(1, 1))\n",
      "  (conv2): Conv2d (6, 16, kernel_size=(5, 5), stride=(1, 1))\n",
      "  (fc1): Linear(in_features=400, out_features=250)\n",
      "  (fc2): Linear(in_features=250, out_features=120)\n",
      "  (fc3): Linear(in_features=120, out_features=80)\n",
      ")\n"
     ]
    }
   ],
   "source": [
    "# step 3\n",
    "# build nn\n",
    "\n",
    "import torch.nn as nn\n",
    "import torch.nn.functional as F\n",
    "\n",
    "class Net(nn.Module):\n",
    "    def __init__(self):\n",
    "        super(Net,self).__init__()\n",
    "        self.conv1=nn.Conv2d(3,6,5)\n",
    "        self.pool=nn.MaxPool2d(2,2)\n",
    "        self.conv2=nn.Conv2d(6,16,5)\n",
    "        self.fc1=nn.Linear(16*5*5,250)\n",
    "        self.fc2=nn.Linear(250,120)\n",
    "        self.fc3=nn.Linear(120,80)\n",
    "    \n",
    "    def forward(self,x):\n",
    "        x=self.pool(F.relu(self.conv1(x)))\n",
    "        x=self.pool(F.relu(self.conv2(x)))\n",
    "        x=x.view(-1,16*5*5)\n",
    "        x=F.relu(self.fc1(x))\n",
    "        x=F.relu(self.fc2(x))\n",
    "        x=self.fc3(x)\n",
    "        return x\n",
    "net=Net()\n",
    "print(net)"
   ]
  },
  {
   "cell_type": "code",
   "execution_count": 8,
   "metadata": {},
   "outputs": [
    {
     "name": "stdout",
     "output_type": "stream",
     "text": [
      "12500 4\n"
     ]
    }
   ],
   "source": [
    "classIdList2=[]\n",
    "for i in range(0,len(classIdList),4):\n",
    "    classIdList2.append(classIdList[i:i+4])\n",
    "print(len(classIdList2),len(classIdList2[0]))"
   ]
  },
  {
   "cell_type": "code",
   "execution_count": 9,
   "metadata": {},
   "outputs": [
    {
     "name": "stdout",
     "output_type": "stream",
     "text": [
      "[1, 2000] 4.377\n",
      "[1, 4000] 4.364\n",
      "[1, 6000] 4.361\n",
      "[1, 8000] 4.366\n",
      "[1,10000] 4.359\n",
      "[1,12000] 4.363\n",
      "[2, 2000] 4.361\n",
      "[2, 4000] 4.360\n",
      "[2, 6000] 4.359\n",
      "[2, 8000] 4.364\n",
      "[2,10000] 4.358\n",
      "[2,12000] 4.362\n",
      "Finished Training!\n"
     ]
    }
   ],
   "source": [
    "# step 4 \n",
    "# training\n",
    "import torch\n",
    "import torch.nn as nn\n",
    "import torch.optim as optim\n",
    "from torch.autograd import Variable\n",
    "\n",
    "criterion=nn.CrossEntropyLoss()\n",
    "optimizer=optim.SGD(net.parameters(),lr=0.001,momentum=0.9)\n",
    "for epoch in range(2):\n",
    "    runningLoss=0.0\n",
    "    \n",
    "    for i,inputs in enumerate(imageTensor):\n",
    "        inputs=inputs.float()\n",
    "        inputs=Variable(inputs)\n",
    "        labels=classIdList[4*i:4*(i+1)]\n",
    "        labels=np.array(labels)\n",
    "        labels=torch.from_numpy(labels)\n",
    "        labels=Variable(labels)\n",
    "        \n",
    "        optimizer.zero_grad()\n",
    "        outputs=net(inputs)\n",
    "        loss=criterion(outputs,labels)\n",
    "        loss.backward()\n",
    "        optimizer.step()\n",
    "        \n",
    "        runningLoss+=loss.data[0]\n",
    "        if i%2000==1999:\n",
    "            print('[%d,%5d] %.3f'%(epoch+1,i+1,runningLoss/2000))\n",
    "            runningLoss=0.0\n",
    "print('Finished Training!')"
   ]
  },
  {
   "cell_type": "code",
   "execution_count": 10,
   "metadata": {},
   "outputs": [
    {
     "name": "stdout",
     "output_type": "stream",
     "text": [
      "number of validation images 7120\n",
      "number of choosen validation images: 1000\n",
      "dimension of imageArray: (1000, 32, 32, 3)\n",
      "the first picture\n"
     ]
    },
    {
     "data": {
      "image/png": "[encoded data removed]",
      "text/plain": [
       "<matplotlib.figure.Figure at 0x7f45d4d93240>"
      ]
     },
     "metadata": {},
     "output_type": "display_data"
    }
   ],
   "source": [
    "# step 5\n",
    "import json\n",
    "import os\n",
    "import numpy as np\n",
    "from PIL import Image\n",
    "import matplotlib.pyplot as plt\n",
    "\n",
    "# load the validation images\n",
    "with open('validation/info.json') as f:\n",
    "    infos=json.loads(f.read())\n",
    "imageLabelDictList=[]\n",
    "imageLabelDict={}\n",
    "for info in infos:\n",
    "    d={}\n",
    "    image_id=info['image_id']\n",
    "    label_id=info['label_id']\n",
    "    d[image_id]=label_id\n",
    "    imageLabelDictList.append(d)\n",
    "    imageLabelDict[image_id]=label_id\n",
    "print('number of validation images',len(imageLabelDict))\n",
    "\n",
    "# create classIdList\n",
    "numOfImages=1000\n",
    "imageIdList=os.listdir('validation/validation/')\n",
    "imageIdList=imageIdList[:numOfImages]\n",
    "classIdList=[]\n",
    "for imageId in imageIdList:\n",
    "    classId=imageLabelDict[imageId]\n",
    "    classIdList.append(int(classId))\n",
    "print('number of choosen validation images:',len(imageIdList))\n",
    "\n",
    "# create imageArray\n",
    "imageListList=[]\n",
    "for imageId in imageIdList:\n",
    "    imagePath='validation/validation/'+imageId\n",
    "    image=Image.open(imagePath)\n",
    "    image=image.resize((32,32))\n",
    "    imageArray=np.array(image)\n",
    "    imageList=imageArray.tolist()\n",
    "    imageListList.append(imageList)\n",
    "imageArray=np.array(imageListList)\n",
    "imageArray=imageArray.astype('uint8')\n",
    "print('dimension of imageArray:',imageArray.shape)\n",
    "\n",
    "# check the imageArray\n",
    "import matplotlib.pyplot as plt\n",
    "print('the first picture')\n",
    "image1Array=imageArray[0]\n",
    "plt.imshow(image1Array)\n",
    "plt.show()"
   ]
  },
  {
   "cell_type": "code",
   "execution_count": 11,
   "metadata": {},
   "outputs": [
    {
     "name": "stdout",
     "output_type": "stream",
     "text": [
      "the dimension of imageTensor: torch.Size([1000, 3, 32, 32])\n"
     ]
    }
   ],
   "source": [
    "# step 6\n",
    "# data preprocessing:transform the imageArray to imageTensor\n",
    "import torch\n",
    "from torchvision import transforms\n",
    "\n",
    "transform=transforms.Compose([transforms.ToTensor(),transforms.Normalize(mean=(0.5,0.5,0.5),std=(0.5,0.5,0.5))])\n",
    "imageNumber=len(imageArray)\n",
    "imageList=[]\n",
    "for imageIndex in range(imageNumber):\n",
    "    image=imageArray[imageIndex]\n",
    "    image=transform(image)\n",
    "    image=image.numpy()\n",
    "    image=image.tolist()\n",
    "    imageList.append(image)\n",
    "imageArray=np.array(imageList)\n",
    "imageTensor=torch.from_numpy(imageArray)\n",
    "print('the dimension of imageTensor:',imageTensor.size())"
   ]
  },
  {
   "cell_type": "code",
   "execution_count": 12,
   "metadata": {},
   "outputs": [
    {
     "name": "stdout",
     "output_type": "stream",
     "text": [
      "13 1000\n",
      "Accuracy on validation is 0.013\n"
     ]
    }
   ],
   "source": [
    "# step 7\n",
    "# validation\n",
    "from torch.autograd import Variable\n",
    "\n",
    "correct=0\n",
    "total=0\n",
    "for i,image in enumerate(imageTensor):\n",
    "    image=image.float()\n",
    "    image=image.unsqueeze(0)\n",
    "    image=Variable(image)\n",
    "    label=classIdList[i]\n",
    "    output=net(image)\n",
    "    _,predicted=torch.max(output.data,1)\n",
    "    predicted=predicted.numpy()[0]\n",
    "    correct+=(predicted==label)\n",
    "    total+=1\n",
    "print(correct,total)\n",
    "print('Accuracy on validation is %.3f'%(correct/total))"
   ]
  },
  {
   "cell_type": "code",
   "execution_count": null,
   "metadata": {},
   "outputs": [],
   "source": []
  }
 ],
 "metadata": {
  "kernelspec": {
   "display_name": "Python 3",
   "language": "python",
   "name": "python3"
  },
  "language_info": {
   "codemirror_mode": {
    "name": "ipython",
    "version": 3
   },
   "file_extension": ".py",
   "mimetype": "text/x-python",
   "name": "python",
   "nbconvert_exporter": "python",
   "pygments_lexer": "ipython3",
   "version": "3.5.2"
  }
 },
 "nbformat": 4,
 "nbformat_minor": 2
}
